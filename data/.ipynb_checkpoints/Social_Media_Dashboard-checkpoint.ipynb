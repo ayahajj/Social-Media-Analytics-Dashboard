{
 "cells": [
  {
   "cell_type": "markdown",
   "metadata": {
    "id": "PJ6eW22LJM_n"
   },
   "source": [
    "# Social Media Analytics Dashboard"
   ]
  },
  {
   "cell_type": "markdown",
   "metadata": {
    "id": "qPXtYV6tLA7v"
   },
   "source": [
    "Social Media Analytics Dashboard"
   ]
  },
  {
   "cell_type": "markdown",
   "metadata": {
    "id": "xHx4uFrkJQTE",
    "jp-MarkdownHeadingCollapsed": true,
    "tags": []
   },
   "source": [
    "## Load data"
   ]
  },
  {
   "cell_type": "markdown",
   "metadata": {
    "id": "ljlic4GgsbCr",
    "jp-MarkdownHeadingCollapsed": true,
    "tags": []
   },
   "source": [
    "## Data pre-processing"
   ]
  }
 ],
 "metadata": {
  "colab": {
   "provenance": []
  },
  "kernelspec": {
   "display_name": "Python 3 (ipykernel)",
   "language": "python",
   "name": "python3"
  },
  "language_info": {
   "codemirror_mode": {
    "name": "ipython",
    "version": 3
   },
   "file_extension": ".py",
   "mimetype": "text/x-python",
   "name": "python",
   "nbconvert_exporter": "python",
   "pygments_lexer": "ipython3",
   "version": "3.11.5"
  }
 },
 "nbformat": 4,
 "nbformat_minor": 4
}
